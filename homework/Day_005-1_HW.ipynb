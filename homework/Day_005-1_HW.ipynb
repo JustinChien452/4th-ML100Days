{
 "cells": [
  {
   "cell_type": "markdown",
   "metadata": {},
   "source": [
    "# [作業目標]\n",
    "- 利用範例的創建方式, 創建一組資料, 並練習如何取出最大值"
   ]
  },
  {
   "cell_type": "markdown",
   "metadata": {},
   "source": [
    "# [作業重點]\n",
    "- 練習創立 DataFrame (In[2])\n",
    "- 如何取出口數最多的國家 (In[3], Out[3])"
   ]
  },
  {
   "cell_type": "markdown",
   "metadata": {},
   "source": [
    "## 練習時間\n",
    "在小量的資料上，我們用眼睛就可以看得出來程式碼是否有跑出我們理想中的結果\n",
    "\n",
    "請嘗試想像一個你需要的資料結構 (裡面的值可以是隨機的)，然後用上述的方法把它變成 pandas DataFrame\n",
    "\n",
    "#### Ex: 想像一個 dataframe 有兩個欄位，一個是國家，一個是人口，求人口數最多的國家\n",
    "\n",
    "### Hints: [隨機產生數值](https://blog.csdn.net/christianashannon/article/details/78867204)"
   ]
  },
  {
   "cell_type": "code",
   "execution_count": 228,
   "metadata": {
    "collapsed": true
   },
   "outputs": [],
   "source": [
    "import pandas as pd\n",
    "import numpy as np\n",
    "# generate random Gaussian values\n",
    "from numpy.random import seed\n",
    "from numpy.random import random\n",
    "from datetime import datetime\n",
    "import time"
   ]
  },
  {
   "cell_type": "code",
   "execution_count": 229,
   "metadata": {},
   "outputs": [
    {
     "name": "stdout",
     "output_type": "stream",
     "text": [
      "           country   populations\n",
      "3            China  1.386000e+10\n",
      "4            India  1.339000e+10\n",
      "5            Japan  1.268000e+09\n",
      "6           France  6.699000e+07\n",
      "7          Germany  8.279000e+07\n",
      "8  United Kindgdom  6.604000e+07\n",
      "data.shape=(9, 2)\n",
      "新增國家\n",
      "            country   populations\n",
      "6            France  6.699000e+07\n",
      "7           Germany  8.279000e+07\n",
      "8   United Kindgdom  6.604000e+07\n",
      "9       Newcountry1  1.386000e+10\n",
      "10      Newcountry2  5.164040e+07\n",
      "11      Newcountry3  1.339000e+10\n",
      "data.shape=(12, 2)\n",
      "人口最多的國家為Newcountry1，其人口為13860000400.480803\n",
      "人口最少的國家為Taiwan，其人口為23780000.0\n"
     ]
    }
   ],
   "source": [
    "#data = {'國家': ,\n",
    "#        '人口': }\n",
    "#data = pd.DataFrame()\n",
    "data = {'country':['Taiwan','Korean','United States','China','India','Japan','France','Germany','United Kindgdom'] ,\n",
    "        'populations': [23.78*10**6,51.64*10**6,3.272*10**9, 13.86*10**9,13.39*10**9,1.268*10**9,66.99*10**6,82.79*10**6,66.04*10**6]}\n",
    "df = pd.DataFrame(data)\n",
    "print(df.tail(6))\n",
    "print(\"data.shape={0}\".format(df.shape))\n",
    "print(\"新增國家\")\n",
    "seed(int(time.time()))\n",
    "item=[23.78*10**6,51.64*10**6,3.272*10**9, 13.86*10**9,13.39*10**9,1.268*10**9,66.99*10**6,82.79*10**6,66.04*10**6]\n",
    "np.random.shuffle(item)\n",
    "s=pd.Series({'country':\"Newcountry1\" ,\n",
    "        'populations': item[0]+rand()*1000})\n",
    "df=df.append(s, ignore_index=True)\n",
    "seed(int(time.time()))\n",
    "np.random.shuffle(item)\n",
    "s=pd.Series({'country':\"Newcountry2\" ,\n",
    "        'populations': item[0]+rand()*1000})\n",
    "df=df.append(s, ignore_index=True)\n",
    "seed(int(time.time()))\n",
    "np.random.shuffle(item)\n",
    "s=pd.Series({'country':\"Newcountry3\" ,\n",
    "        'populations': item[0]+rand()*1000})\n",
    "df=df.append(s, ignore_index=True)\n",
    "print(df.tail(6))\n",
    "print(\"data.shape={0}\".format(df.shape))\n",
    "#找出最多人口的ID\n",
    "country_max_population_name=df['country'][df['populations'].idxmax()]\n",
    "country_max_population=df['populations'][df['populations'].idxmax()]\n",
    "#找出最少人口的ID\n",
    "country_min_population_name=df['country'][df['populations'].idxmin()]\n",
    "country_min_population=df['populations'][df['populations'].idxmin()]\n",
    "#印出人口最多的國家\n",
    "print('人口最多的國家為{0}，其人口為{1}'.format(country_max_population_name,country_max_population))\n",
    "print('人口最少的國家為{0}，其人口為{1}'.format(country_min_population_name,country_min_population))\n"
   ]
  },
  {
   "cell_type": "code",
   "execution_count": 230,
   "metadata": {},
   "outputs": [
    {
     "name": "stdout",
     "output_type": "stream",
     "text": [
      "1588735277.2440603\n"
     ]
    }
   ],
   "source": [
    "time_now=time.time()\n",
    "print(time_now)"
   ]
  }
 ],
 "metadata": {
  "kernelspec": {
   "display_name": "Python 3",
   "language": "python",
   "name": "python3"
  },
  "language_info": {
   "codemirror_mode": {
    "name": "ipython",
    "version": 3
   },
   "file_extension": ".py",
   "mimetype": "text/x-python",
   "name": "python",
   "nbconvert_exporter": "python",
   "pygments_lexer": "ipython3",
   "version": "3.6.3"
  }
 },
 "nbformat": 4,
 "nbformat_minor": 2
}
